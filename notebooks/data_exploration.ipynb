{
 "cells": [
  {
   "cell_type": "markdown",
   "id": "95b335d3",
   "metadata": {},
   "source": [
    "#### Importing libraries"
   ]
  },
  {
   "cell_type": "code",
   "execution_count": null,
   "id": "36b88173",
   "metadata": {},
   "outputs": [],
   "source": [
    "import pandas as pd\n",
    "import numpy as np\n",
    "import matplotlib.pyplot as plt\n",
    "import seaborn as sns\n",
    "import os"
   ]
  },
  {
   "cell_type": "markdown",
   "id": "157b772d",
   "metadata": {},
   "source": [
    "#### Reading the dataset & deletion of duplicated data"
   ]
  },
  {
   "cell_type": "code",
   "execution_count": null,
   "id": "5c20c16a",
   "metadata": {},
   "outputs": [],
   "source": [
    "df = pd.read_csv(\"../data/raw/Patients.csv\", sep=\";\")\n",
    "df = df.drop_duplicates()"
   ]
  },
  {
   "cell_type": "markdown",
   "id": "04cc20c4",
   "metadata": {},
   "source": [
    "#### Definition and grouping of different variables in the dataset"
   ]
  },
  {
   "cell_type": "code",
   "execution_count": null,
   "id": "8fe3e81b",
   "metadata": {},
   "outputs": [],
   "source": [
    "target_col = \"Mental Illness\"\n",
    "categories_column = {\n",
    "    \"Socio-demographic information\": [\n",
    "        \"Survey Year\",\"Program Category\",\"Region Served\",\"Age Group\",\"Sex\",\"Transgender\",\"Sexual Orientation\",\n",
    "        \"Hispanic Ethnicity\",\"Race\",\"Preferred Language\",\"Religious Preference\"\n",
    "    ],\n",
    "    \"Family and social situation\": [\n",
    "        \"Living Situation\",\"Household Composition\",\"Veteran Status\",\"Criminal Justice Status\",\n",
    "        \"Three Digit Residence Zip Code\"\n",
    "    ],\n",
    "    \"Professional and educational background\": [\n",
    "        \"Employment Status\",\"Number Of Hours Worked Each Week\",\"Education Status\",\"Special Education Services\"\n",
    "    ],\n",
    "    \"Developmental disorders\": [\n",
    "        \"Serious Mental Illness\",\"Intellectual Disability\",\"Autism Spectrum\",\"Other Developmental Disability\"\n",
    "    ],\n",
    "    \"Addictions / Substances\": [\n",
    "        \"Alcohol Related Disorder\",\"Drug Substance Disorder\",\"Opioid Related Disorder\",\n",
    "        \"Cannabis Recreational Use\",\"Cannabis Medicinal Use\",\"Smokes\",\n",
    "        \"Received Smoking Medication\",\"Received Smoking Counseling\",\n",
    "        \"Alcohol 12m Service\",\"Opioid 12m Service\",\"Drug/Substance 12m Service\"\n",
    "    ],\n",
    "    \"Physical health / Medical conditions\": [\n",
    "        \"Mobility Impairment Disorder\",\"Hearing Impairment\",\"Visual Impairment\",\"Speech Impairment\",\n",
    "        \"Hyperlipidemia\",\"High Blood Pressure\",\"Diabetes\",\"Obesity\",\"Heart Attack\",\"Stroke\",\"Other Cardiac\",\n",
    "        \"Pulmonary Asthma\",\"Alzheimer or Dementia\",\"Kidney Disease\",\"Liver Disease\",\"Endocrine Condition\",\n",
    "        \"Neurological Condition\",\"Traumatic Brain Injury\",\"Joint Disease\",\"Cancer\",\n",
    "        \"Other Chronic Med Condition\",\"No Chronic Med Condition\",\"Unknown Chronic Med Condition\"\n",
    "    ],\n",
    "    \"Medical diagnosis\": [\n",
    "        \"Principal Diagnosis Class\",\"Additional Diagnosis Class\"\n",
    "    ],\n",
    "    \"Financial and social assistance\": [\n",
    "        \"SSI Cash Assistance\",\"SSDI Cash Assistance\",\"Veterans Disability Benefits\",\"Veterans Cash Assistance\",\n",
    "        \"Public Assistance Cash Program\",\"Other Cash Benefits\"\n",
    "    ],\n",
    "    \"Health insurance\": [\n",
    "        \"Medicaid and Medicare Insurance\",\"No Insurance\",\"Unknown Insurance Coverage\",\"Medicaid Insurance\",\n",
    "        \"Medicaid Managed Insurance\",\"Medicare Insurance\",\"Private Insurance\",\"Child Health Plus Insurance\",\"Other Insurance\"\n",
    "    ]\n",
    "}"
   ]
  },
  {
   "cell_type": "markdown",
   "id": "163185a7",
   "metadata": {},
   "source": [
    "#### Visualization of the data\n"
   ]
  },
  {
   "cell_type": "code",
   "execution_count": null,
   "id": "51113b11",
   "metadata": {},
   "outputs": [],
   "source": [
    "print(\"Shape du dataset :\", df.shape)\n",
    "df.head()"
   ]
  },
  {
   "cell_type": "code",
   "execution_count": null,
   "id": "611a780f",
   "metadata": {},
   "outputs": [],
   "source": [
    "df.tail()"
   ]
  },
  {
   "cell_type": "code",
   "execution_count": null,
   "id": "0fc395af",
   "metadata": {},
   "outputs": [],
   "source": [
    "for col in df.columns:\n",
    "    uniques = df[col].unique()\n",
    "    print(f\"{col}: {uniques}\")"
   ]
  },
  {
   "cell_type": "code",
   "execution_count": null,
   "id": "450b37fa",
   "metadata": {},
   "outputs": [],
   "source": [
    "df.info()"
   ]
  },
  {
   "cell_type": "code",
   "execution_count": null,
   "id": "92a21975",
   "metadata": {},
   "outputs": [],
   "source": [
    "print(\"\\nVariable types :\")\n",
    "df.dtypes.value_counts()"
   ]
  },
  {
   "cell_type": "code",
   "execution_count": null,
   "id": "727bdc91",
   "metadata": {},
   "outputs": [],
   "source": [
    "num_cols = df.select_dtypes(include=[\"int64\", \"float64\"]).columns.tolist()\n",
    "cat_cols = df.select_dtypes(include=[\"object\"]).columns.tolist()\n",
    "bool_cols = df.select_dtypes(include=['bool']).columns.tolist()"
   ]
  },
  {
   "cell_type": "code",
   "execution_count": null,
   "id": "c81c4d8b",
   "metadata": {},
   "outputs": [],
   "source": [
    "print(\"\\nNumerical variables :\", num_cols)\n",
    "print(\"Categorical variables :\", len(cat_cols))\n",
    "print(\"Boolean variables :\", bool_cols)"
   ]
  },
  {
   "cell_type": "markdown",
   "id": "9f74b3c2",
   "metadata": {},
   "source": [
    "<span style=\"color:gray\">\n",
    "Removal of the columns ‘Serious Mental Illness’, ‘Principal Diagnosis Class’ and ‘Additional Diagnosis Class’, as they contain the target variable, then update of the dictionnary categories.\n",
    "</span>"
   ]
  },
  {
   "cell_type": "code",
   "execution_count": null,
   "id": "66755f15",
   "metadata": {},
   "outputs": [],
   "source": [
    "df = df.drop(num_cols + [\"Serious Mental Illness\", \"Principal Diagnosis Class\",\"Additional Diagnosis Class\"], axis=1) # Informations pas utiles à l'étude et trop proche de la cible\n",
    "\n",
    "categories = {cat: [col for col in cols if col in df.columns] \n",
    "              for cat, cols in categories_column.items()}"
   ]
  },
  {
   "cell_type": "markdown",
   "id": "1dcdc5c3",
   "metadata": {},
   "source": [
    "<span style=\"color:gray\">\n",
    "Checking of there is missing values\n",
    "</span>"
   ]
  },
  {
   "cell_type": "code",
   "execution_count": null,
   "id": "03715c47",
   "metadata": {},
   "outputs": [],
   "source": [
    "df.isna().sum()"
   ]
  },
  {
   "cell_type": "markdown",
   "id": "a1feb11b",
   "metadata": {},
   "source": [
    "#### Visualization of the data without treating missinf values"
   ]
  },
  {
   "cell_type": "code",
   "execution_count": null,
   "id": "68f21c58",
   "metadata": {},
   "outputs": [],
   "source": [
    "print(\"Unique values of the target :\", df[target_col].unique())\n",
    "print(\"\\nDistribution of the target :\")\n",
    "print(df[target_col].value_counts(normalize=True))\n",
    "\n",
    "os.makedirs(\"../data/processed/df/graph\", exist_ok=True)\n",
    "plt.figure()\n",
    "sns.countplot(x=target_col, data=df)\n",
    "plt.title(\"Distribution of the target\")\n",
    "plt.savefig(\"../data/processed/df/graph/target_distribution.png\", bbox_inches='tight')\n",
    "plt.show()"
   ]
  },
  {
   "cell_type": "code",
   "execution_count": null,
   "id": "476b1527",
   "metadata": {},
   "outputs": [],
   "source": [
    "# Variables catégorielles\n",
    "for cat, cols in categories.items():  \n",
    "    if not cols:\n",
    "        continue\n",
    "\n",
    "    cat_dir = f\"../data/processed/df/graph/univariate_analysis/{cat.replace('/', '_').replace(' ', '_')}\"\n",
    "    os.makedirs(cat_dir, exist_ok=True)\n",
    "\n",
    "    plt.figure(figsize=(14, 4 * len(cols)))\n",
    "\n",
    "    plot_idx = 1\n",
    "    for col in cols:\n",
    "        if col not in df.columns:\n",
    "            continue\n",
    "\n",
    "        # Affichage groupé par catégories\n",
    "        plt.subplot(len(cols), 1, plot_idx)\n",
    "        ax = sns.countplot(y=col, data=df, order=df[col].value_counts().index)\n",
    "\n",
    "        # Ajouter les pourcentages sur les barres\n",
    "        total = len(df[col].dropna())\n",
    "        for container in ax.containers:\n",
    "            ax.bar_label(container, labels=[f\"{(x/total*100):.1f}%\" for x in container.datavalues])\n",
    "\n",
    "        plt.title(f\"Distribution of {col}\")\n",
    "        plt.xlabel(\"Count\")\n",
    "\n",
    "        # Sauvegarde individuelle\n",
    "        fig_indiv, ax_indiv = plt.subplots(figsize=(10, 6))\n",
    "        ax2 = sns.countplot(y=col, data=df, order=df[col].value_counts().index, ax=ax_indiv)\n",
    "        for container in ax2.containers:\n",
    "            ax2.bar_label(container, labels=[f\"{(x/total*100):.1f}%\" for x in container.datavalues])\n",
    "        ax_indiv.set_title(f\"Distribution of {col} ({cat})\")\n",
    "        ax_indiv.set_xlabel(\"Count\")\n",
    "        plt.tight_layout()\n",
    "        safe_col = col.replace('/', '_').replace(' ', '_')\n",
    "        fig_indiv.savefig(f\"{cat_dir}/{safe_col}_distribution.png\", bbox_inches='tight')\n",
    "        plt.close(fig_indiv)\n",
    "\n",
    "        plot_idx += 1\n",
    "\n",
    "    plt.suptitle(f\"{cat}\", fontsize=20, y=1.02)\n",
    "    plt.tight_layout()\n",
    "    plt.show()"
   ]
  },
  {
   "cell_type": "markdown",
   "id": "b5e464d5",
   "metadata": {},
   "source": [
    "#### Data cleansing"
   ]
  },
  {
   "cell_type": "markdown",
   "id": "b898ac63",
   "metadata": {},
   "source": [
    "<span style=\"color:gray\">\n",
    "In our case, there are no missing values in the strict sense, but some can be considered as such. We duplicate the base DataFrame and replace these values with nan, so that they are recognised as missing by the pandas library.\n",
    "</span>"
   ]
  },
  {
   "cell_type": "code",
   "execution_count": null,
   "id": "dca46548",
   "metadata": {},
   "outputs": [],
   "source": [
    "data = df.copy()\n",
    "missing_values_list = [\n",
    "    'DATA NOT AVAILABLE', 'UNKNOWN', 'NOT APPLICABLE'\n",
    "] \n",
    "\n",
    "cat_cols_valid = [col for col in cat_cols if col in data.columns]\n",
    "\n",
    "for col in cat_cols_valid:\n",
    "    data[col] = data[col].replace(missing_values_list, np.nan)\n",
    "\n",
    "data.isna().sum().sort_values(ascending=False)\n"
   ]
  },
  {
   "cell_type": "markdown",
   "id": "074eb278",
   "metadata": {},
   "source": [
    "<span style=\"color:gray\">\n",
    "Columns with more than 40% missing values are deleted.\n",
    "</span>"
   ]
  },
  {
   "cell_type": "code",
   "execution_count": null,
   "id": "91d0d5e6",
   "metadata": {},
   "outputs": [],
   "source": [
    "data = data.drop(columns=[\"Number Of Hours Worked Each Week\", \"Special Education Services\"], axis=1)"
   ]
  },
  {
   "cell_type": "code",
   "execution_count": null,
   "id": "c7d6b5f1",
   "metadata": {},
   "outputs": [],
   "source": [
    "data.isna().sum().sort_values(ascending=False)"
   ]
  },
  {
   "cell_type": "code",
   "execution_count": null,
   "id": "dd2534a0",
   "metadata": {},
   "outputs": [],
   "source": [
    "data.shape"
   ]
  },
  {
   "cell_type": "markdown",
   "id": "5209b296",
   "metadata": {},
   "source": [
    "<span style=\"color:gray\">\n",
    "The data is duplicated again, this time to create a DataFrame containing only usable variables, removing all rows with missing values.\n",
    "</span>"
   ]
  },
  {
   "cell_type": "code",
   "execution_count": null,
   "id": "e1a14385",
   "metadata": {},
   "outputs": [],
   "source": [
    "cleaned_data = data.copy()\n",
    "cleaned_data = cleaned_data.dropna()"
   ]
  },
  {
   "cell_type": "code",
   "execution_count": null,
   "id": "c1697234",
   "metadata": {},
   "outputs": [],
   "source": [
    "cleaned_data.shape"
   ]
  },
  {
   "cell_type": "markdown",
   "id": "4c1ba329",
   "metadata": {},
   "source": [
    "<span style=\"color:gray\">\n",
    "In the data DataFrame, missing values are replaced with the most frequent modality.\n",
    "</span>"
   ]
  },
  {
   "cell_type": "code",
   "execution_count": null,
   "id": "352ea60b",
   "metadata": {},
   "outputs": [],
   "source": [
    "for col in data.columns:\n",
    "    if col in cat_cols:\n",
    "        mode_value = data[col].mode()[0]\n",
    "        print(f\"Column “{col}”: most frequent modality = '{mode_value}'\")\n",
    "        data[col] = data[col].fillna(mode_value)\n",
    "\n",
    "print(data.isna().sum().sort_values(ascending=False))"
   ]
  },
  {
   "cell_type": "markdown",
   "id": "9f4a526f",
   "metadata": {},
   "source": [
    "#### Visualisation of distributions for the dataframe data"
   ]
  },
  {
   "cell_type": "markdown",
   "id": "a3c86cd0",
   "metadata": {},
   "source": [
    "<span style=\"color:gray\">\n",
    "Visualisation of the distribution of the target\n",
    "</span>"
   ]
  },
  {
   "cell_type": "code",
   "execution_count": null,
   "id": "b841a8d7",
   "metadata": {},
   "outputs": [],
   "source": [
    "print(\"Unique values of the target :\", data[target_col].unique())\n",
    "print(\"\\nDistribution of the target :\")\n",
    "print(data[target_col].value_counts(normalize=True))\n",
    "\n",
    "os.makedirs(\"../data/processed/data/graph\", exist_ok=True)\n",
    "plt.figure()\n",
    "sns.countplot(x=target_col, data=data)\n",
    "plt.title(\"Distribution of the target\")\n",
    "plt.savefig(\"../data/processed/data/graph/target_distribution.png\", bbox_inches='tight')\n",
    "plt.show()"
   ]
  },
  {
   "cell_type": "markdown",
   "id": "b1198259",
   "metadata": {},
   "source": [
    "<span style=\"color:gray\">\n",
    "Visualisation of the distribution of each variables of the dataset (univariate analysis)\n",
    "</span>"
   ]
  },
  {
   "cell_type": "code",
   "execution_count": null,
   "id": "dc39a759",
   "metadata": {},
   "outputs": [],
   "source": [
    "for cat, cols in categories.items():  \n",
    "    if not cols:\n",
    "        continue\n",
    "\n",
    "    cat_dir = f\"../data/processed/data/graph/univariate_analysis/{cat.replace('/', '_').replace(' ', '_')}\"\n",
    "    os.makedirs(cat_dir, exist_ok=True)\n",
    "\n",
    "    plt.figure(figsize=(14, 4 * len(cols)))\n",
    "\n",
    "    plot_idx = 1\n",
    "    \n",
    "    for col in cols:\n",
    "        if col not in data.columns:\n",
    "            continue\n",
    "\n",
    "        # Grouped display by category\n",
    "        plt.subplot(len(cols), 1, plot_idx)\n",
    "        ax = sns.countplot(y=col, data=data, order=data[col].value_counts().index)\n",
    "\n",
    "        # Display of distribution percentages\n",
    "        total = len(data[col].dropna())\n",
    "        for container in ax.containers:\n",
    "            ax.bar_label(container, labels=[f\"{(x/total*100):.1f}%\" for x in container.datavalues])\n",
    "\n",
    "        plt.title(f\"Distribution of {col}\")\n",
    "        plt.xlabel(\"Count\")\n",
    "\n",
    "        # Saving the different graphs for each variable in each category\n",
    "        fig_indiv, ax_indiv = plt.subplots(figsize=(10, 6))\n",
    "        ax2 = sns.countplot(y=col, data=data, order=data[col].value_counts().index, ax=ax_indiv)\n",
    "        for container in ax2.containers:\n",
    "            ax2.bar_label(container, labels=[f\"{(x/total*100):.1f}%\" for x in container.datavalues])\n",
    "        ax_indiv.set_title(f\"Distribution of {col} ({cat})\")\n",
    "        ax_indiv.set_xlabel(\"Count\")\n",
    "        plt.tight_layout()\n",
    "        safe_col = col.replace('/', '_').replace(' ', '_')\n",
    "        fig_indiv.savefig(f\"{cat_dir}/{safe_col}_distribution.png\", bbox_inches='tight')\n",
    "        plt.close(fig_indiv)\n",
    "\n",
    "        plot_idx += 1\n",
    "\n",
    "    plt.suptitle(f\"{cat}\", fontsize=20, y=1.02)\n",
    "    plt.tight_layout()\n",
    "    plt.show()"
   ]
  },
  {
   "cell_type": "markdown",
   "id": "e383d0ec",
   "metadata": {},
   "source": [
    "<span style=\"color:gray\">\n",
    "Visualisation of the distribution of each variables of the dataset in relation to the target (bivariate analysis)\n",
    "</span>"
   ]
  },
  {
   "cell_type": "code",
   "execution_count": null,
   "id": "dfa0ccb1",
   "metadata": {},
   "outputs": [],
   "source": [
    "for cat, cols in categories.items():\n",
    "    if not cols:\n",
    "        continue\n",
    "    plot_cols = [col for col in cols if col in data.columns]\n",
    "    if not plot_cols:\n",
    "        continue\n",
    "\n",
    "    n = len(plot_cols)\n",
    "    ncols = 3  \n",
    "    nrows = (n + ncols - 1) // ncols\n",
    "\n",
    "    plt.figure(figsize=(6 * ncols, 5 * nrows))\n",
    "\n",
    "    cat_dir = f\"../data/processed/data/graph/bivariate_analysis/{cat.replace('/', '_').replace(' ', '_')}\"\n",
    "    os.makedirs(cat_dir, exist_ok=True)\n",
    "\n",
    "    for i, col in enumerate(plot_cols, 1):\n",
    "        plt.subplot(nrows, ncols, i)\n",
    "\n",
    "        ax = sns.countplot(\n",
    "            data=data,\n",
    "            x=col,\n",
    "            hue=target_col,\n",
    "            order=data[col].value_counts().index\n",
    "        )\n",
    "        total = len(data)\n",
    "        for container in ax.containers:\n",
    "            ax.bar_label(container, \n",
    "                         labels=[f\"{(v/total*100):.1f}%\" for v in container.datavalues],\n",
    "                         fontsize=8)\n",
    "\n",
    "        plt.title(f\"{col}\", fontsize=12)\n",
    "        plt.xticks(rotation=45, ha=\"right\")\n",
    "        plt.ylabel(\"Number of observations\")\n",
    "        plt.legend(title=target_col)\n",
    "\n",
    "        # Sauvegarde individuelle\n",
    "        fig_indiv, ax_indiv = plt.subplots(figsize=(8, 5))\n",
    "        ax2 = sns.countplot(\n",
    "            data=data,\n",
    "            x=col,\n",
    "            hue=target_col,\n",
    "            order=data[col].value_counts().index,\n",
    "            ax=ax_indiv\n",
    "        )\n",
    "        for container in ax2.containers:\n",
    "            ax2.bar_label(container, \n",
    "                          labels=[f\"{(v/total*100):.1f}%\" for v in container.datavalues],\n",
    "                          fontsize=8)\n",
    "        ax_indiv.set_title(f\"{col} ({cat})\", fontsize=12)\n",
    "        ax_indiv.set_xticklabels(ax_indiv.get_xticklabels(), rotation=45, ha=\"right\")\n",
    "        ax_indiv.set_ylabel(\"Number of observations\")\n",
    "        ax_indiv.legend(title=target_col)\n",
    "        plt.tight_layout()\n",
    "        safe_col = col.replace('/', '_').replace(' ', '_')\n",
    "        fig_indiv.savefig(f\"{cat_dir}/{safe_col}_target_effectif.png\", bbox_inches='tight')\n",
    "        plt.close(fig_indiv)\n",
    "\n",
    "    plt.suptitle(f\"{cat}\", fontsize=20, y=1.02)\n",
    "    plt.tight_layout()\n",
    "    plt.show()"
   ]
  },
  {
   "cell_type": "markdown",
   "id": "aac771dd",
   "metadata": {},
   "source": [
    "#### Visalisation des distribution pour le dataframe cleaned_data (without any missing values)"
   ]
  },
  {
   "cell_type": "markdown",
   "id": "9f5c1d15",
   "metadata": {},
   "source": [
    "<span style=\"color:gray\">\n",
    "Visualisation of the distribution of the target\n",
    "</span>"
   ]
  },
  {
   "cell_type": "code",
   "execution_count": null,
   "id": "99beb5fe",
   "metadata": {},
   "outputs": [],
   "source": [
    "print(\"Unique values of the target :\", data[target_col].unique())\n",
    "print(\"\\nDistribution of the target :\")\n",
    "print(cleaned_data[target_col].value_counts(normalize=True))\n",
    "\n",
    "os.makedirs(\"../data/processed/cleaned_data/graph\", exist_ok=True)\n",
    "plt.figure()\n",
    "sns.countplot(x=target_col, data=cleaned_data)\n",
    "plt.title(\"Distribution of the target\")\n",
    "plt.savefig(\"../data/processed/cleaned_data/graph/target_distribution.png\", bbox_inches='tight')\n",
    "plt.show()"
   ]
  },
  {
   "cell_type": "markdown",
   "id": "819954e1",
   "metadata": {},
   "source": [
    "<span style=\"color:gray\">\n",
    "Visualisation of the distribution of each variables of the dataset (univariate analysis)\n",
    "</span>"
   ]
  },
  {
   "cell_type": "code",
   "execution_count": null,
   "id": "e9e7afc1",
   "metadata": {},
   "outputs": [],
   "source": [
    "for cat, cols in categories.items():  \n",
    "    if not cols:\n",
    "        continue\n",
    "\n",
    "    cat_dir = f\"../data/processed/cleaned_data/graph/univariate_analysis/{cat.replace('/', '_').replace(' ', '_')}\"\n",
    "    os.makedirs(cat_dir, exist_ok=True)\n",
    "\n",
    "    plt.figure(figsize=(14, 4 * len(cols)))\n",
    "\n",
    "    plot_idx = 1\n",
    "    for col in cols:\n",
    "        if col not in data.columns:\n",
    "            continue\n",
    "\n",
    "        plt.subplot(len(cols), 1, plot_idx)\n",
    "        ax = sns.countplot(y=col, data=cleaned_data, order=cleaned_data[col].value_counts().index)\n",
    "\n",
    "        total = len(cleaned_data[col].dropna())\n",
    "        for container in ax.containers:\n",
    "            ax.bar_label(container, labels=[f\"{(x/total*100):.1f}%\" for x in container.datavalues])\n",
    "\n",
    "        plt.title(f\"Distribution of {col}\")\n",
    "        plt.xlabel(\"Count\")\n",
    "\n",
    "        fig_indiv, ax_indiv = plt.subplots(figsize=(10, 6))\n",
    "        ax2 = sns.countplot(y=col, data=cleaned_data, order=cleaned_data[col].value_counts().index, ax=ax_indiv)\n",
    "        for container in ax2.containers:\n",
    "            ax2.bar_label(container, labels=[f\"{(x/total*100):.1f}%\" for x in container.datavalues])\n",
    "        ax_indiv.set_title(f\"Distribution of {col} ({cat})\")\n",
    "        ax_indiv.set_xlabel(\"Count\")\n",
    "        plt.tight_layout()\n",
    "        safe_col = col.replace('/', '_').replace(' ', '_')\n",
    "        fig_indiv.savefig(f\"{cat_dir}/{safe_col}_distribution.png\", bbox_inches='tight')\n",
    "        plt.close(fig_indiv)\n",
    "\n",
    "        plot_idx += 1\n",
    "\n",
    "    plt.suptitle(f\"{cat}\", fontsize=20, y=1.02)\n",
    "    plt.tight_layout()\n",
    "    plt.show()"
   ]
  },
  {
   "cell_type": "markdown",
   "id": "632ee647",
   "metadata": {},
   "source": [
    "<span style=\"color:gray\">\n",
    "Visualisation of the distribution of each variables of the dataset in relation to the target (bivariate analysis)\n",
    "</span>"
   ]
  },
  {
   "cell_type": "code",
   "execution_count": null,
   "id": "10f6167c",
   "metadata": {},
   "outputs": [],
   "source": [
    "for cat, cols in categories.items():\n",
    "    if not cols:\n",
    "        continue\n",
    "    plot_cols = [col for col in cols if col in data.columns]\n",
    "    if not plot_cols:\n",
    "        continue\n",
    "\n",
    "    n = len(plot_cols)\n",
    "    ncols = 3  \n",
    "    nrows = (n + ncols - 1) // ncols  \n",
    "\n",
    "    plt.figure(figsize=(6 * ncols, 5 * nrows))\n",
    "\n",
    "    # Dossier de sauvegarde\n",
    "    cat_dir = f\"../data/processed/cleaned_data/graph/bivariate_analysis/{cat.replace('/', '_').replace(' ', '_')}\"\n",
    "    os.makedirs(cat_dir, exist_ok=True)\n",
    "\n",
    "    for i, col in enumerate(plot_cols, 1):\n",
    "        plt.subplot(nrows, ncols, i)\n",
    "\n",
    "        ax = sns.countplot(\n",
    "            data=cleaned_data,\n",
    "            x=col,\n",
    "            hue=target_col,\n",
    "            order=cleaned_data[col].value_counts().index\n",
    "        )\n",
    "\n",
    "        total = len(cleaned_data)\n",
    "        for container in ax.containers:\n",
    "            ax.bar_label(container, \n",
    "                         labels=[f\"{(v/total*100):.1f}%\" for v in container.datavalues],\n",
    "                         fontsize=8)\n",
    "\n",
    "        plt.title(f\"{col}\", fontsize=12)\n",
    "        plt.xticks(rotation=45, ha=\"right\")\n",
    "        plt.ylabel(\"Number of observations\")\n",
    "        plt.legend(title=target_col)\n",
    "\n",
    "        fig_indiv, ax_indiv = plt.subplots(figsize=(8, 5))\n",
    "        ax2 = sns.countplot(\n",
    "            data=cleaned_data,\n",
    "            x=col,\n",
    "            hue=target_col,\n",
    "            order=cleaned_data[col].value_counts().index,\n",
    "            ax=ax_indiv\n",
    "        )\n",
    "        for container in ax2.containers:\n",
    "            ax2.bar_label(container, \n",
    "                          labels=[f\"{(v/total*100):.1f}%\" for v in container.datavalues],\n",
    "                          fontsize=8)\n",
    "        ax_indiv.set_title(f\"{col} ({cat})\", fontsize=12)\n",
    "        ax_indiv.set_xticklabels(ax_indiv.get_xticklabels(), rotation=45, ha=\"right\")\n",
    "        ax_indiv.set_ylabel(\"Number of observations\")\n",
    "        ax_indiv.legend(title=target_col)\n",
    "        plt.tight_layout()\n",
    "        safe_col = col.replace('/', '_').replace(' ', '_')\n",
    "        fig_indiv.savefig(f\"{cat_dir}/{safe_col}_target_effectif.png\", bbox_inches='tight')\n",
    "        plt.close(fig_indiv)\n",
    "\n",
    "    plt.suptitle(f\"{cat}\", fontsize=20, y=1.02)\n",
    "    plt.tight_layout()\n",
    "    plt.show()"
   ]
  },
  {
   "cell_type": "markdown",
   "id": "16ed42ca",
   "metadata": {},
   "source": [
    "#### Creation of a dataframe using some feature engineering"
   ]
  },
  {
   "cell_type": "markdown",
   "id": "bc900386",
   "metadata": {},
   "source": [
    "#### Saves each dataframe in its dedicated folder for use in other notebooks."
   ]
  },
  {
   "cell_type": "code",
   "execution_count": null,
   "id": "e1208adc",
   "metadata": {},
   "outputs": [],
   "source": [
    "df.to_csv(\"../data/processed/df/df.csv\", index=False)\n",
    "data.to_csv(\"../data/processed/data/data.csv\", index=False)\n",
    "cleaned_data.to_csv(\"../data/processed/cleaned_data/cleaned_data.csv\", index=False)"
   ]
  }
 ],
 "metadata": {
  "kernelspec": {
   "display_name": ".venv",
   "language": "python",
   "name": "python3"
  },
  "language_info": {
   "codemirror_mode": {
    "name": "ipython",
    "version": 3
   },
   "file_extension": ".py",
   "mimetype": "text/x-python",
   "name": "python",
   "nbconvert_exporter": "python",
   "pygments_lexer": "ipython3",
   "version": "3.9.0"
  }
 },
 "nbformat": 4,
 "nbformat_minor": 5
}
