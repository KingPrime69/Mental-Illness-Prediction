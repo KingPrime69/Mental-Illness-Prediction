{
 "cells": [
  {
   "cell_type": "markdown",
   "id": "e067e221",
   "metadata": {},
   "source": [
    "#### Importing libraries"
   ]
  },
  {
   "cell_type": "code",
   "execution_count": null,
   "id": "e01c7ccd",
   "metadata": {},
   "outputs": [],
   "source": [
    "import pandas as pd\n",
    "import numpy as np\n",
    "import pickle\n",
    "from xgboost import XGBClassifier\n",
    "from sklearn.ensemble import RandomForestClassifier\n",
    "from sklearn.model_selection import GridSearchCV, train_test_split, cross_val_score, StratifiedKFold\n",
    "from sklearn.metrics import classification_report, confusion_matrix, accuracy_score, roc_curve, auc, precision_recall_curve, average_precision_score\n",
    "from collections import Counter\n",
    "from imblearn.under_sampling import RandomUnderSampler\n",
    "from imblearn.over_sampling import SMOTE\n",
    "import shap\n",
    "import matplotlib.pyplot as plt\n",
    "import seaborn as sns"
   ]
  },
  {
   "cell_type": "markdown",
   "id": "bd4cd658",
   "metadata": {},
   "source": [
    "#### Loading data "
   ]
  },
  {
   "cell_type": "code",
   "execution_count": null,
   "id": "a7e041fb",
   "metadata": {},
   "outputs": [],
   "source": [
    "# Essayer après avec data_preprocessed_clean\n",
    "DATA_PATH = \"../data/processed/data/data_preprocessed.csv\"\n",
    "data = pd.read_csv(DATA_PATH, header=0)"
   ]
  },
  {
   "cell_type": "markdown",
   "id": "fc38db16",
   "metadata": {},
   "source": [
    "#### Definition of the features and the target variables"
   ]
  },
  {
   "cell_type": "code",
   "execution_count": null,
   "id": "30c8f857",
   "metadata": {},
   "outputs": [],
   "source": [
    "\n",
    "features = data.columns.drop('Mental Illness').tolist()\n",
    "target = 'Mental Illness'\n",
    "X = data[features]\n",
    "y = data[target]"
   ]
  },
  {
   "cell_type": "markdown",
   "id": "1db93420",
   "metadata": {},
   "source": [
    "#### Managing class imbalance: undersampling and oversampling (SMOTE)"
   ]
  },
  {
   "cell_type": "code",
   "execution_count": null,
   "id": "21aff98e",
   "metadata": {},
   "outputs": [],
   "source": [
    "print(\"Original dataset distribution:\", Counter(y))\n",
    "undersampler = RandomUnderSampler(random_state=42)\n",
    "X_under, y_under = undersampler.fit_resample(X, y)\n",
    "print(\"After undersampling:\", Counter(y_under))\n",
    "smote = SMOTE(random_state=42)\n",
    "X_over, y_over = smote.fit_resample(X, y)\n",
    "print(\"After oversampling (SMOTE):\", Counter(y_over))\n"
   ]
  },
  {
   "cell_type": "markdown",
   "id": "0407faaa",
   "metadata": {},
   "source": [
    "#### Split data into training and testing sets"
   ]
  },
  {
   "cell_type": "code",
   "execution_count": null,
   "id": "bd938ed7",
   "metadata": {},
   "outputs": [],
   "source": [
    "X_train, X_test, y_train, y_test = train_test_split(X_over, y_over, test_size=0.2, random_state=42)"
   ]
  },
  {
   "cell_type": "markdown",
   "id": "4bd353ac",
   "metadata": {},
   "source": [
    "#### Utility functions: importance of features and model evaluation\n",
    "<span style=\"color:gray\">\n",
    "This block defines several reusable functions for analysing and evaluating machine learning models. \n",
    "</span>"
   ]
  },
  {
   "cell_type": "code",
   "execution_count": null,
   "id": "8c28854b",
   "metadata": {},
   "outputs": [],
   "source": [
    "def get_feature_importance(model, X, feature_names, method=\"auto\", top_n=20):\n",
    "    if method == \"shap\":\n",
    "        explainer = shap.TreeExplainer(model)\n",
    "        shap_values = explainer.shap_values(X)\n",
    "        shap_sum = np.abs(shap_values).mean(axis=0)\n",
    "        feat_imp = pd.Series(shap_sum, index=feature_names).sort_values(ascending=False)\n",
    "    else:\n",
    "        feat_imp = pd.Series(model.feature_importances_, index=feature_names).sort_values(ascending=False)\n",
    "    return feat_imp.head(top_n)\n",
    "\n",
    "def evaluate_model(model, X_test, y_test, name=\"Modèle\"):\n",
    "    y_pred = model.predict(X_test)\n",
    "    print(f\"\\n=== {name} ===\")\n",
    "    print(\"Accuracy:\", accuracy_score(y_test, y_pred))\n",
    "    print(classification_report(y_test, y_pred))\n",
    "    print(\"Confusion Matrix:\\n\", confusion_matrix(y_test, y_pred))\n",
    "    cm = confusion_matrix(y_test, y_pred)\n",
    "    plt.figure(figsize=(8, 6))\n",
    "    sns.heatmap(cm, annot=True, fmt=\"d\", cmap=\"Blues\")\n",
    "    plt.xlabel(\"Predicted\")\n",
    "    plt.ylabel(\"Actual\")\n",
    "    plt.title(\"Confusion Matrix\")\n",
    "    plt.show()\n",
    "    return accuracy_score(y_test, y_pred), y_pred\n",
    "    \n",
    "\n",
    "def plot_roc_pr_curves(model, X_test, y_test, model_name=\"Modèle\"):\n",
    "    y_score = model.predict_proba(X_test)[:, 1]\n",
    "    fpr, tpr, _ = roc_curve(y_test, y_score)\n",
    "    roc_auc = auc(fpr, tpr)\n",
    "    precision, recall, _ = precision_recall_curve(y_test, y_score)\n",
    "    pr_auc = average_precision_score(y_test, y_score)\n",
    "    plt.figure(figsize=(12, 5))\n",
    "    plt.subplot(1, 2, 1)\n",
    "    plt.plot(fpr, tpr, label=f'AUC = {roc_auc:.2f}')\n",
    "    plt.plot([0, 1], [0, 1], 'k--')\n",
    "    plt.title(f'ROC Curve - {model_name}')\n",
    "    plt.xlabel('False Positive Rate')\n",
    "    plt.ylabel('True Positive Rate')\n",
    "    plt.legend()\n",
    "    plt.subplot(1, 2, 2)\n",
    "    plt.plot(recall, precision, label=f'AP = {pr_auc:.2f}')\n",
    "    plt.title(f'Precision-Recall Curve - {model_name}')\n",
    "    plt.xlabel('Recall')\n",
    "    plt.ylabel('Precision')\n",
    "    plt.legend()\n",
    "    plt.tight_layout()\n",
    "    plt.show()\n",
    "\n",
    "def cross_val_metrics(model, X, y, cv=5):\n",
    "    skf = StratifiedKFold(n_splits=cv, shuffle=True, random_state=42)\n",
    "    scores = cross_val_score(model, X, y, cv=skf, scoring='accuracy')\n",
    "    print(f\"Cross-validated accuracy ({cv}-fold): {scores.mean():.3f} ± {scores.std():.3f}\")\n",
    "\n"
   ]
  },
  {
   "cell_type": "markdown",
   "id": "1fd90666",
   "metadata": {},
   "source": [
    "#### XGBoost model training\n",
    "<span style=\"color:gray\">\n",
    "Defining the hyperparameter grid for XGBoost\n",
    "</span>"
   ]
  },
  {
   "cell_type": "code",
   "execution_count": null,
   "id": "8c75dd70",
   "metadata": {},
   "outputs": [],
   "source": [
    "param_grid = {\n",
    "    'n_estimators': [100, 300],\n",
    "    'max_depth': [3, 5, 10],\n",
    "    'min_child_weight': [1, 3, 5],\n",
    "    'learning_rate': [0.1],\n",
    "    'n_jobs': [-1]\n",
    "}"
   ]
  },
  {
   "cell_type": "markdown",
   "id": "3e9146d9",
   "metadata": {},
   "source": [
    "<span style=\"color:gray\">\n",
    "Hyperparameter optimisation with GridSearchCV (XGBoost) and training of the model\n",
    "</span>"
   ]
  },
  {
   "cell_type": "code",
   "execution_count": null,
   "id": "53a1d22a",
   "metadata": {},
   "outputs": [],
   "source": [
    "gr_cv = GridSearchCV(XGBClassifier(random_state=42, n_jobs=-1), param_grid, cv=5, scoring='neg_mean_absolute_error')\n",
    "gr_cv.fit(X_train, y_train)\n",
    "best_params = gr_cv.best_params_\n",
    "xgb_model = XGBClassifier(**best_params)\n",
    "xgb_model.fit(X_train, y_train)"
   ]
  },
  {
   "cell_type": "markdown",
   "id": "c98a61a1",
   "metadata": {},
   "source": [
    "<span style=\"color:gray\">\n",
    "Training a Random Forest \n",
    "</span>"
   ]
  },
  {
   "cell_type": "code",
   "execution_count": null,
   "id": "7f69d5f3",
   "metadata": {},
   "outputs": [],
   "source": [
    "rf_model = RandomForestClassifier(n_estimators=100, random_state=42)\n",
    "rf_model.fit(X_train, y_train)"
   ]
  },
  {
   "cell_type": "markdown",
   "id": "5ec5754e",
   "metadata": {},
   "source": [
    "#### Comparative evaluation: XGBoost vs Random Forest"
   ]
  },
  {
   "cell_type": "code",
   "execution_count": null,
   "id": "541bcd6f",
   "metadata": {},
   "outputs": [],
   "source": [
    "acc_xgb, y_pred_xgb = evaluate_model(xgb_model, X_test, y_test, name=\"XGBoost\")\n",
    "acc_rf, y_pred_rf = evaluate_model(rf_model, X_test, y_test, name=\"Random Forest\")\n"
   ]
  },
  {
   "cell_type": "markdown",
   "id": "d4b85b5e",
   "metadata": {},
   "source": [
    "#### ROC curves and Precision-Recall: XGBoost vs Random Forest"
   ]
  },
  {
   "cell_type": "code",
   "execution_count": null,
   "id": "9ad9d6e0",
   "metadata": {},
   "outputs": [],
   "source": [
    "plot_roc_pr_curves(xgb_model, X_test, y_test, model_name=\"XGBoost\")\n",
    "plot_roc_pr_curves(rf_model, X_test, y_test, model_name=\"Random Forest\")\n"
   ]
  },
  {
   "cell_type": "markdown",
   "id": "1248bb02",
   "metadata": {},
   "source": [
    "#### Cross-validation (5-fold): XGBoost vs Random Forest"
   ]
  },
  {
   "cell_type": "code",
   "execution_count": null,
   "id": "9e9497c3",
   "metadata": {},
   "outputs": [],
   "source": [
    "print(\"\\nCross-validation XGBoost :\")\n",
    "cross_val_metrics(xgb_model, X_train, y_train, cv=5)\n",
    "print(\"\\nCross-validation Random Forest :\")\n",
    "cross_val_metrics(rf_model, X_train, y_train, cv=5)\n"
   ]
  },
  {
   "cell_type": "markdown",
   "id": "5f974bf5",
   "metadata": {},
   "source": [
    "#### Summary of accuracy scores: XGBoost vs Random Forest"
   ]
  },
  {
   "cell_type": "code",
   "execution_count": null,
   "id": "a2de1694",
   "metadata": {},
   "outputs": [],
   "source": [
    "print(f\"XGBoost Accuracy: {acc_xgb:.3f}\")\n",
    "print(f\"Random Forest Accuracy: {acc_rf:.3f}\")"
   ]
  },
  {
   "cell_type": "markdown",
   "id": "4f39dbc5",
   "metadata": {},
   "source": [
    "#### Saving trained models (Random Forest & XGBoost)"
   ]
  },
  {
   "cell_type": "code",
   "execution_count": null,
   "id": "cc9b269f",
   "metadata": {},
   "outputs": [],
   "source": [
    "with open(\"../data/models/random_forest_model.pkl\", \"wb\") as f:\n",
    "    pickle.dump(rf_model, f)\n",
    "with open(\"../data/models/xgb_model.pkl\", \"wb\") as f:\n",
    "    pickle.dump(xgb_model, f)\n",
    "print(\"Modèle et encoders sauvegardés.\")"
   ]
  },
  {
   "cell_type": "markdown",
   "id": "7fd4601a",
   "metadata": {},
   "source": [
    "#### Going futher : Model interpretation: importance of variables (SHAP & Random Forest)"
   ]
  },
  {
   "cell_type": "code",
   "execution_count": null,
   "id": "52723ab0",
   "metadata": {},
   "outputs": [],
   "source": [
    "feat_imp_xgb = get_feature_importance(xgb_model, X_train, X_train.columns, method=\"shap\", top_n=20)\n",
    "feat_imp_rf = get_feature_importance(rf_model, X_train, X_train.columns, method=\"shap\", top_n=20)\n",
    "\n",
    "print(\"\\nTop features XGBoost (SHAP):\\n\", feat_imp_xgb)\n",
    "print(\"\\nTop features Random Forest:\\n\", feat_imp_rf)\n",
    "\n",
    "plt.figure(figsize=(10, 4))\n",
    "feat_imp_xgb.plot(kind='bar', title='Top 20 Features XGBoost (SHAP)')\n",
    "plt.show()\n",
    "\n",
    "plt.figure(figsize=(10, 4))\n",
    "feat_imp_rf.plot(kind='bar', title='Top 20 Features Random Forest')\n",
    "plt.show()"
   ]
  }
 ],
 "metadata": {
  "kernelspec": {
   "display_name": ".venv",
   "language": "python",
   "name": "python3"
  },
  "language_info": {
   "codemirror_mode": {
    "name": "ipython",
    "version": 3
   },
   "file_extension": ".py",
   "mimetype": "text/x-python",
   "name": "python",
   "nbconvert_exporter": "python",
   "pygments_lexer": "ipython3",
   "version": "3.9.0"
  }
 },
 "nbformat": 4,
 "nbformat_minor": 5
}
