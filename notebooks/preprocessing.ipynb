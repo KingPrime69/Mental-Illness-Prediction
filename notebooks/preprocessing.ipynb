{
 "cells": [
  {
   "cell_type": "markdown",
   "id": "db8fa520",
   "metadata": {},
   "source": [
    "#### Importing libraries"
   ]
  },
  {
   "cell_type": "code",
   "execution_count": 2,
   "id": "e1c19948",
   "metadata": {},
   "outputs": [],
   "source": [
    "import pandas as pd\n",
    "from sklearn.preprocessing import LabelEncoder\n",
    "import pickle"
   ]
  },
  {
   "cell_type": "markdown",
   "id": "839f3927",
   "metadata": {},
   "source": [
    "#### Loading data "
   ]
  },
  {
   "cell_type": "code",
   "execution_count": 3,
   "id": "2cb78d00",
   "metadata": {},
   "outputs": [],
   "source": [
    "data = pd.read_csv(\"../data/processed/data/data.csv\", header=0)"
   ]
  },
  {
   "cell_type": "markdown",
   "id": "0979d83c",
   "metadata": {},
   "source": [
    "#### Encoding categorical variables (LabelEncoder)"
   ]
  },
  {
   "cell_type": "code",
   "execution_count": 4,
   "id": "05e4c9b3",
   "metadata": {},
   "outputs": [],
   "source": [
    "data_encoded = data.copy()\n",
    "\n",
    "label_encoders = {}\n",
    "for col in data_encoded.select_dtypes(include=[\"object\"]).columns:\n",
    "    le = LabelEncoder()\n",
    "    data_encoded[col] = le.fit_transform(data_encoded[col].astype(str))\n",
    "    label_encoders[col] = le"
   ]
  },
  {
   "cell_type": "markdown",
   "id": "c00470e9",
   "metadata": {},
   "source": [
    "### Analysis of the significance of categorical variables using the chi² test"
   ]
  },
  {
   "cell_type": "code",
   "execution_count": null,
   "id": "129782c7",
   "metadata": {},
   "outputs": [
    {
     "name": "stdout",
     "output_type": "stream",
     "text": [
      "Classement des variables catégorielles selon le chi2 (plus le score est élevé, plus l'association avec la cible est forte) :\n",
      "Sex                               18.641248\n",
      "Public Assistance Cash Program    16.159539\n",
      "Region Served                     13.126061\n",
      "Criminal Justice Status            8.151811\n",
      "Medicaid Managed Insurance         6.303055\n",
      "Living Situation                   5.744376\n",
      "Other Insurance                    5.586460\n",
      "Race                               4.619652\n",
      "Alzheimer or Dementia              1.591413\n",
      "Transgender                        1.490449\n",
      "Opioid 12m Service                 1.383592\n",
      "Autism Spectrum                    1.036827\n",
      "Veterans Disability Benefits       1.017512\n",
      "Veterans Cash Assistance           0.929992\n",
      "Alcohol 12m Service                0.848235\n",
      "Sexual Orientation                 0.368403\n",
      "Preferred Language                 0.335821\n",
      "Speech Impairment                  0.075401\n",
      "Veteran Status                     0.061611\n",
      "Opioid Related Disorder            0.004592\n",
      "dtype: float64\n"
     ]
    }
   ],
   "source": [
    "from sklearn.feature_selection import chi2\n",
    "\n",
    "# On suppose que la colonne cible s'appelle 'Mental Illness'\n",
    "X_chi2 = data_encoded.drop(columns=['Mental Illness'])\n",
    "y_chi2 = data_encoded['Mental Illness']\n",
    "\n",
    "chi2_scores, p_values = chi2(X_chi2, y_chi2)\n",
    "chi2_results = pd.Series(chi2_scores, index=X_chi2.columns).sort_values(ascending=False)\n",
    "\n",
    "print(\"Ranking of categorical variables according to chi2 :\")\n",
    "print(chi2_results.tail(20))"
   ]
  },
  {
   "cell_type": "markdown",
   "id": "e17b40ec",
   "metadata": {},
   "source": [
    "<span style=\"color:gray\">\n",
    "Identification of variables with low correlation to the target (chi² < 1 or < 2)\n",
    "</span>"
   ]
  },
  {
   "cell_type": "code",
   "execution_count": null,
   "id": "a0968166",
   "metadata": {},
   "outputs": [
    {
     "name": "stdout",
     "output_type": "stream",
     "text": [
      "7 variables avec chi2 < 1\n",
      "12 variables avec chi2 < 2\n"
     ]
    }
   ],
   "source": [
    "print((chi2_results < 1).sum(), \"variables with chi2 < 1\")\n",
    "print((chi2_results < 2).sum(), \"variables with chi2 < 2\")"
   ]
  },
  {
   "cell_type": "markdown",
   "id": "f1320a55",
   "metadata": {},
   "source": [
    "<span style=\"color:gray\">\n",
    "Filtering variables according to the chi² score (threshold ≥ 2)\n",
    "</span>"
   ]
  },
  {
   "cell_type": "code",
   "execution_count": 7,
   "id": "f0170c9f",
   "metadata": {},
   "outputs": [],
   "source": [
    "data_encoded_cleaned = data_encoded[chi2_results[chi2_results >= 2].index.tolist() + ['Mental Illness']]"
   ]
  },
  {
   "cell_type": "markdown",
   "id": "3ec6a735",
   "metadata": {},
   "source": [
    "<span style=\"color:gray\">\n",
    "Showing the new shape of the dataset without low correlated varibales\n",
    "</span>"
   ]
  },
  {
   "cell_type": "code",
   "execution_count": 8,
   "id": "3dc9673a",
   "metadata": {},
   "outputs": [
    {
     "data": {
      "text/plain": [
       "(189850, 57)"
      ]
     },
     "execution_count": 8,
     "metadata": {},
     "output_type": "execute_result"
    }
   ],
   "source": [
    "data_encoded_cleaned.shape"
   ]
  },
  {
   "cell_type": "markdown",
   "id": "791015a5",
   "metadata": {},
   "source": [
    "#### Saving pre-processed data (before and after feature selection)"
   ]
  },
  {
   "cell_type": "code",
   "execution_count": null,
   "id": "32ee5596",
   "metadata": {},
   "outputs": [
    {
     "ename": "",
     "evalue": "",
     "output_type": "error",
     "traceback": [
      "\u001b[1;31mThe Kernel crashed while executing code in the current cell or a previous cell. \n",
      "\u001b[1;31mPlease review the code in the cell(s) to identify a possible cause of the failure. \n",
      "\u001b[1;31mClick <a href='https://aka.ms/vscodeJupyterKernelCrash'>here</a> for more info. \n",
      "\u001b[1;31mView Jupyter <a href='command:jupyter.viewOutput'>log</a> for further details."
     ]
    }
   ],
   "source": [
    "data_encoded.to_csv(\"../data/processed/data/data_preprocessed.csv\", index=False)\n",
    "data_encoded_cleaned.to_csv(\"../data/processed/data/data_preprocessed_cleaned.csv\", index=False)"
   ]
  }
 ],
 "metadata": {
  "kernelspec": {
   "display_name": ".venv",
   "language": "python",
   "name": "python3"
  },
  "language_info": {
   "codemirror_mode": {
    "name": "ipython",
    "version": 3
   },
   "file_extension": ".py",
   "mimetype": "text/x-python",
   "name": "python",
   "nbconvert_exporter": "python",
   "pygments_lexer": "ipython3",
   "version": "3.9.0"
  }
 },
 "nbformat": 4,
 "nbformat_minor": 5
}
